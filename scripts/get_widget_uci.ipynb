{
 "cells": [
  {
   "cell_type": "code",
   "execution_count": 1,
   "metadata": {},
   "outputs": [],
   "source": [
    "import pandas as pd\n",
    "from bokeh.plotting import figure, show, output_file\n",
    "from bokeh.models import Select, CustomJS, ColumnDataSource\n",
    "from bokeh.layouts import column\n",
    "from bokeh.palettes import Category10\n",
    "from bokeh.io import curdoc\n",
    "from bokeh.models import HoverTool"
   ]
  },
  {
   "cell_type": "code",
   "execution_count": 2,
   "metadata": {},
   "outputs": [],
   "source": [
    "df_ = pd.read_csv('../output_files/UCI/camas_uci_departamentos_colombia.csv')\n",
    "df_['date'] = pd.to_datetime(df_['date'])"
   ]
  },
  {
   "cell_type": "code",
   "execution_count": 3,
   "metadata": {},
   "outputs": [
    {
     "data": {
      "text/plain": [
       "Timestamp('2020-06-01 12:00:00')"
      ]
     },
     "execution_count": 3,
     "metadata": {},
     "output_type": "execute_result"
    }
   ],
   "source": [
    "min(df_['date'] )"
   ]
  },
  {
   "cell_type": "code",
   "execution_count": 4,
   "metadata": {},
   "outputs": [],
   "source": [
    "# Assume df_ is your main DataFrame and you have a list of unique departments and capacities\n",
    "unique_departments = df_['department'].unique()\n",
    "unique_capacities = df_['capacity'].unique()\n",
    "\n",
    "# Create a dictionary to hold your ColumnDataSource objects\n",
    "sources = {}\n",
    "\n",
    "# Create a DataFrame for each combination of department and capacity\n",
    "for department in unique_departments:\n",
    "    for capacity in unique_capacities:\n",
    "        # Create a mask for the current combination\n",
    "        mask = (df_['department'] == department) & (df_['capacity'] == capacity)\n",
    "        \n",
    "        # Filter the DataFrame based on the mask\n",
    "        filtered_df = df_[mask]\n",
    "        \n",
    "        # Create a ColumnDataSource from the filtered DataFrame\n",
    "        sources[f'{department}_{capacity}'] = ColumnDataSource(filtered_df)\n",
    "\n",
    "\n",
    "# Example DataFrame columns\n",
    "columns_to_plot = ['non_covid', 'covid_suspected', 'covid_confirmed', 'available_beds', 'total_beds']\n",
    "department_options = sorted(df_['department'].unique().tolist())\n",
    "capacity_options = sorted(df_['capacity'].unique().tolist())\n"
   ]
  },
  {
   "cell_type": "code",
   "execution_count": 5,
   "metadata": {},
   "outputs": [],
   "source": [
    "\n",
    "# Initial ColumnDataSource\n",
    "initial_department = '11 - Bogotá, D.C.'\n",
    "initial_capacity = 'Cuidado Intensivo Adulto'\n",
    "initial_mask = (df_['department'] == initial_department) & (df_['capacity'] == initial_capacity)\n",
    "initial_source = ColumnDataSource(df_[initial_mask])\n",
    "\n",
    "# Create the figure\n",
    "p = figure(x_axis_type='datetime', title=\"Bed Utilization Over Time\", width=1000, height=400)\n",
    "p.add_tools(HoverTool(tooltips=[('Date', '@date{%F}'), ('Value', '$y')],\n",
    "                      formatters={'@date': 'datetime'}))\n",
    "\n",
    "# Add lines and areas for each column\n",
    "colors = Category10[len(columns_to_plot)]\n",
    "for column_name, color in zip(columns_to_plot, colors):\n",
    "    p.line(x='date', y=column_name, source=initial_source, line_width=2, color=color, alpha=0.8, legend_label=column_name)\n",
    "    p.varea(x='date', y1=0, y2=column_name, source=initial_source, fill_color=color, fill_alpha=0.1, legend_label=column_name)\n",
    "\n",
    "# Customize legend\n",
    "p.legend.location = \"top_left\"\n",
    "p.legend.click_policy = \"hide\"\n",
    "# Department and Capacity Select widgets\n",
    "department_select = Select(title=\"Department\", value=initial_department, options=department_options)\n",
    "capacity_select = Select(title=\"Capacity\", value=initial_capacity, options=capacity_options)\n",
    "\n",
    "# JavaScript callback for Select widgets\n",
    "callback_code = \"\"\"\n",
    "    const department = department_select.value;\n",
    "    const capacity = capacity_select.value;\n",
    "    const key = department + '_' + capacity;\n",
    "    const new_data = sources[key].data;\n",
    "\n",
    "    // Update the data in the plot's data source\n",
    "    source.data = new_data;\n",
    "\n",
    "    // Since we've updated the data, we need to trigger a change event to update the plot\n",
    "    source.change.emit();\n",
    "\"\"\"\n",
    "\n",
    "# Prepare the arguments for the CustomJS callback\n",
    "callback_args = {\n",
    "    'department_select': department_select,\n",
    "    'capacity_select': capacity_select,\n",
    "    'sources': sources,\n",
    "    'source': initial_source,\n",
    "    'plot': p\n",
    "}\n",
    "\n",
    "# Link the callback code to the select widgets with the correct arguments\n",
    "department_select.js_on_change('value', CustomJS(args=callback_args, code=callback_code))\n",
    "capacity_select.js_on_change('value', CustomJS(args=callback_args, code=callback_code))\n",
    "\n",
    "# Layout\n",
    "layout = column(department_select, capacity_select, p)\n",
    "\n",
    "# If you are running this script in a standalone Python process, use output_file and show\n",
    "output_file('../output_files/bed_utilization_plot.html')\n",
    "show(layout)"
   ]
  }
 ],
 "metadata": {
  "kernelspec": {
   "display_name": "base",
   "language": "python",
   "name": "python3"
  },
  "language_info": {
   "codemirror_mode": {
    "name": "ipython",
    "version": 3
   },
   "file_extension": ".py",
   "mimetype": "text/x-python",
   "name": "python",
   "nbconvert_exporter": "python",
   "pygments_lexer": "ipython3",
   "version": "3.10.12"
  }
 },
 "nbformat": 4,
 "nbformat_minor": 2
}
